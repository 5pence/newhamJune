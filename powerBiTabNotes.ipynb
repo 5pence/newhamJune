{
 "cells": [
  {
   "cell_type": "markdown",
   "id": "fc8c963d",
   "metadata": {},
   "source": [
    "# Overview Comparison Table\n",
    "\n",
    "| Feature | Power BI | Tableau | QlikView |\n",
    "|---------|----------|----------|---------|\n",
    "| Owned by | Microsoft | Salesforce | Qlik |\n",
    "| Platform | Windows Only | X-Platform | Windows |\n",
    "| Best for | Business Analytics | Visual Storytelling | Interactive drill-downs |\n",
    "| UX | Familar to Excel | Smoother UX (rich visuals) | Steep learning curve |\n",
    "| Cost | Cheaper (esp for Office365) | Expensive for the full version | Expensive & complex licensing |\n",
    "| Learning Curve | Moderate | Easy to start | High | "
   ]
  },
  {
   "cell_type": "markdown",
   "id": "703fdb35",
   "metadata": {},
   "source": [
    "## Best Practices in Dashboard Design\n",
    "- Clarity (clear KPIs)\n",
    "- Easy to read (less clutter)\n",
    "- Use Colour and fonts consistently \n",
    "- Add filters (Use UX thoughtfully)\n",
    "- Tell a story for the audience it's designed for\n",
    "- Label frames clearly\n",
    "- Don't mislead"
   ]
  },
  {
   "cell_type": "markdown",
   "id": "9177c97f",
   "metadata": {},
   "source": [
    "### 🪜 Step-by-Step: Build Your First Tableau Visual\n",
    "✅ 1. Choose a Dataset\n",
    "Just use the data that comes with Tableau\n",
    "\n",
    "✅ 2. Connect Your Data\n",
    "- In Tableau, click \"Text File\" or \"Microsoft Excel\"\n",
    "- Navigate to your CSV/XLSX file\n",
    "- Tableau will show you a spreadsheet-style preview\n",
    "- If needed, drag the sheet name into the center pane to load it\n",
    "\n",
    "✅ 3. Go to a Worksheet\n",
    "Click Sheet 1 (bottom tab)\n",
    "\n",
    "You’ll enter the main visualisation interface\n",
    "\n",
    "✅ 4. Understand the Layout\n",
    "📁 Data Pane (left)\tAll your fields, split into Measures (numbers) and Dimensions (categories)\n",
    "🎨 Marks Card\tControls chart appearance (colour, size, labels)\n",
    "🧠 Columns/Rows\tWhere you drop fields to build charts\n",
    "🧾 Filters/Shelves\tRefine what’s shown in your view\n",
    "\n",
    "✅ 5. Try a Simple Bar Chart\n",
    "Let’s say you’re using the Superstore data:\n",
    "\n",
    "Goal: Total Sales by Category\n",
    "- Drag Category to Columns\n",
    "- Drag Sales to Rows\n",
    "- Tableau will auto-build a bar chart\n",
    "- Drag Region to Color on the Marks card (for more detail)\n",
    "\n",
    "🎉 Boom — your first chart.\n",
    "\n",
    "✅ 6. Build a Dashboard\n",
    "- Click the \"New Dashboard\" tab (bottom).\n",
    "- Drag your Sheet onto the dashboard\n",
    "- Add filters, dropdowns, or even multiple charts\n",
    "\n"
   ]
  }
 ],
 "metadata": {
  "language_info": {
   "name": "python"
  }
 },
 "nbformat": 4,
 "nbformat_minor": 5
}
