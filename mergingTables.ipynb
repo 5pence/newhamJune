{
 "cells": [
  {
   "cell_type": "markdown",
   "id": "ed5328ad",
   "metadata": {},
   "source": [
    "# How to Work with Multiple Tables in PowerBI\n",
    "\n",
    "## Step 1: Clean all data in Python \n",
    "- Alternatively you can transform in PowerBI\n",
    "\n",
    "## Step 2: Import all the CSVs\n",
    "- Home -> Get Data -> Text/CSV\n",
    "- Import each CSV file one by one.\n",
    "- Each table will become its own table in PowerQuery\n",
    "\n",
    "## Step 3: Build Relationships between tables\n",
    "- Go to Model View(icons with 3 tables + lines on the left)\n",
    "- Drag and drop to connect relatewd fields between tables:\n",
    "    example: Orders.customer_id -> Customers.id\n",
    "- Power BI will detect 1:many or a many:1 or 1:1 relationship\n",
    "\n",
    "You can manually set relationships cardinality and cross-filtering \n",
    "\n",
    "## Step 4: Use Fields Across Tables in Visuals\n",
    "Once relationship are defined, PowerBI behaves like all your tables live in one smart table.\n",
    "Examples:\n",
    "    - Use customer_name from Customers with order_value from Orders\n",
    "    - Filter by product_category from Products\n",
    "\n",
    "### NOTE: POWERBI !== TABLEAU\n",
    "- PowerBI works out 1:many etc relationships automatically - Tableau doesn't but does have a Referental Identity toggle. "
   ]
  }
 ],
 "metadata": {
  "language_info": {
   "name": "python"
  }
 },
 "nbformat": 4,
 "nbformat_minor": 5
}
