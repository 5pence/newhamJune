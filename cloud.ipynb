{
 "cells": [
  {
   "cell_type": "markdown",
   "id": "e2159437",
   "metadata": {},
   "source": [
    "### IaaS : Infrastructure as a Service\n",
    "    - AWS EC2: You launch a VM and install python, Tensorflow etc yourself.\n",
    "\n",
    "### PaaS : Platform as a Service\n",
    "    - Google Colab / Azure ML: Prebuilt notebook environments with GPU/TPU access.\n",
    "\n",
    "### SaaS : Software as a service\n",
    "    - ChatGPT, BigML, or Google AutoML. Just upload data and get predictions.\n",
    "\n",
    "\n",
    "### Providers:\n",
    "\n",
    "GCP -> Best for data science tooling (Colab, BigQuery, Vertex AI)\n",
    "AWS -> King of flexibility, generally cheaper, giant ecosystem\n",
    "Azure -> Strong with enterprise integration + ML Studio\n",
    "\n",
    "Heroku -> simple project hosting (can be free and used for streamlit apps, Flask)\n",
    "\n"
   ]
  }
 ],
 "metadata": {
  "language_info": {
   "name": "python"
  }
 },
 "nbformat": 4,
 "nbformat_minor": 5
}
